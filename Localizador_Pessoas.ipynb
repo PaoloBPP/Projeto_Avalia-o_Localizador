{
  "nbformat": 4,
  "nbformat_minor": 0,
  "metadata": {
    "colab": {
      "provenance": [],
      "authorship_tag": "ABX9TyOBMr/4wNxHXuA4zAtDNfah",
      "include_colab_link": true
    },
    "kernelspec": {
      "name": "python3",
      "display_name": "Python 3"
    },
    "language_info": {
      "name": "python"
    }
  },
  "cells": [
    {
      "cell_type": "markdown",
      "metadata": {
        "id": "view-in-github",
        "colab_type": "text"
      },
      "source": [
        "<a href=\"https://colab.research.google.com/github/PaoloBPP/Projeto_Avalia-o_Localizador/blob/main/Localizador_Pessoas.ipynb\" target=\"_parent\"><img src=\"https://colab.research.google.com/assets/colab-badge.svg\" alt=\"Open In Colab\"/></a>"
      ]
    },
    {
      "cell_type": "code",
      "source": [
        "#Instalando o SDK do Google\n",
        "!pip install -q -U google-generativeai"
      ],
      "metadata": {
        "id": "acDnOmhLLmGI"
      },
      "execution_count": 287,
      "outputs": []
    },
    {
      "cell_type": "code",
      "execution_count": 288,
      "metadata": {
        "id": "pf6_odbqGCZx"
      },
      "outputs": [],
      "source": [
        "#Configurações iniciais\n",
        "import numpy as np\n",
        "import pandas as pd\n",
        "import google.generativeai as genai\n",
        "\n",
        "from google.colab import userdata\n",
        "api_key = userdata.get('chave_secreta')\n",
        "genai.configure(api_key=api_key)"
      ]
    },
    {
      "cell_type": "code",
      "source": [
        "#Listando os modelos disponíveis\n",
        "for m in genai.list_models():\n",
        "  if 'generateContent' in m.supported_generation_methods:\n",
        "    print(m.name)"
      ],
      "metadata": {
        "id": "noEH4tVrsIoy"
      },
      "execution_count": null,
      "outputs": []
    },
    {
      "cell_type": "code",
      "source": [
        "generation_config = {\n",
        "  \"candidate_count\": 1,\n",
        "  \"temperature\": 0.5,\n",
        "}"
      ],
      "metadata": {
        "id": "cLUQkx2qsIfI"
      },
      "execution_count": 290,
      "outputs": []
    },
    {
      "cell_type": "code",
      "source": [
        "safety_settings={\n",
        "    'HATE': 'BLOCK_NONE',\n",
        "    'HARASSMENT': 'BLOCK_NONE',\n",
        "    'SEXUAL' : 'BLOCK_NONE',\n",
        "    'DANGEROUS' : 'BLOCK_NONE'\n",
        "    }"
      ],
      "metadata": {
        "id": "uRD0E9MgsIaN"
      },
      "execution_count": 292,
      "outputs": []
    },
    {
      "cell_type": "code",
      "source": [
        "model = genai.GenerativeModel(model_name='gemini-1.0-pro',\n",
        "                                  generation_config=generation_config,\n",
        "                                  safety_settings=safety_settings,)"
      ],
      "metadata": {
        "id": "gjZ4vmzJsREI"
      },
      "execution_count": 293,
      "outputs": []
    },
    {
      "cell_type": "code",
      "source": [
        "for m in genai.list_models():\n",
        "  if 'embedContent' in m.supported_generation_methods:\n",
        "    print(m.name)"
      ],
      "metadata": {
        "id": "PPozRgqUbu7z"
      },
      "execution_count": null,
      "outputs": []
    },
    {
      "cell_type": "markdown",
      "source": [
        "Este código gera os dados pra ser digitados sendo que o sexo e status é selecionado por um menu de opções"
      ],
      "metadata": {
        "id": "K89AMziz1Mgz"
      }
    },
    {
      "cell_type": "code",
      "source": [
        "chat = model.start_chat(history=[])\n",
        "\n",
        "while prompt != \"fim\":\n",
        "    # Input fields\n",
        "    nome = input(\"Digite seu nome  (ou 'fim' para parar): \")\n",
        "    if nome == \"fim\":\n",
        "        break\n",
        "\n",
        "    idade = int(input(\"Digite sua idade: \"))\n",
        "    cpf = input(\"Digite seu CPF: \")\n",
        "    endereco = input(\"Digite seu endereço: \")\n",
        "    telefone = input(\"Digite seu telefone: \")\n",
        "     # Gender selection using menu\n",
        "    while True:\n",
        "        print(\"\\nSelecione seu gênero:\")\n",
        "        print(\"1. Masculino\")\n",
        "        print(\"2. Feminino\")\n",
        "        print(\"3. Infantil\")\n",
        "\n",
        "        escolha_genero = input(\"Digite sua escolha (1, 2 ou 3): \")\n",
        "\n",
        "        if escolha_genero in [\"1\", \"2\", \"3\"]:\n",
        "            if escolha_genero == \"1\":\n",
        "                genero = \"Masculino\"\n",
        "            elif escolha_genero == \"2\":\n",
        "                genero = \"Feminino\"\n",
        "            else:\n",
        "                genero = \"Infantil\"\n",
        "            break\n",
        "        else:\n",
        "            print(\"Opção inválida. Digite 1, 2 ou 3.\")\n",
        "     # Gender selection using menu\n",
        "    while True:\n",
        "        print(\"\\nSelecione seu status:\")\n",
        "        print(\"1. Encontrado\")\n",
        "        print(\"2. Alojado\")\n",
        "        print(\"3. Desaparecido\")\n",
        "\n",
        "        escolha_status = input(\"Digite sua escolha (1, 2 ou 3): \")\n",
        "\n",
        "        if escolha_status in [\"1\", \"2\", \"3\"]:\n",
        "            if escolha_status == \"1\":\n",
        "                status = \"Encontrado\"\n",
        "            elif escolha_status == \"2\":\n",
        "                status = \"Alojado\"\n",
        "            else:\n",
        "                status = \"Desaparecido\"\n",
        "            break\n",
        "        else:\n",
        "            print(\"Opção inválida. Digite 1, 2 ou 3.\")\n",
        "\n",
        "\n",
        "\n",
        "\n",
        "    # Displaying user input\n",
        "    print(\"Nome:\", nome)\n",
        "    print(\"Idade:\", idade)\n",
        "    print(\"CPF:\", cpf)\n",
        "    print(\"Telefone:\", telefone)\n",
        "    print(\"Endereço:\", endereco)\n",
        "    print(\"Sexo:\", genero)\n",
        "    print(\"Sttus:\", status)\n",
        "\n",
        "    # Constructing a prompt with user inputs\n",
        "    prompt = f\"Olá, meu nome é {nome}, tenho {idade} anos, meu CPF é {cpf}, meu Numero telefome é {telefone}, moro em {endereco}, sou {genero} e estou {status}.\"\n",
        "\n",
        "    # Sending prompt to the model\n",
        "    response = chat.send_message(prompt)\n"
      ],
      "metadata": {
        "id": "Sr8QCdQT1ODx"
      },
      "execution_count": null,
      "outputs": []
    },
    {
      "cell_type": "code",
      "source": [
        "#Melhorando a visualização\n",
        "#Código disponível em https://ai.google.dev/tutorials/python_quickstart#import_packages\n",
        "import textwrap\n",
        "from IPython.display import display\n",
        "from IPython.display import Markdown\n",
        "\n",
        "def to_markdown(text):\n",
        "  text = text.replace('•', '  *')\n",
        "  return Markdown(textwrap.indent(text, '> ', predicate=lambda _: True))\n",
        "\n",
        "#Imprimindo o histórico\n",
        "for message in chat.history:\n",
        "  display(to_markdown(f'**{message.role}**: {message.parts[0].text}'))\n",
        "  print('-------------------------------------------')"
      ],
      "metadata": {
        "id": "hjVcMW2c2FfZ"
      },
      "execution_count": null,
      "outputs": []
    },
    {
      "cell_type": "markdown",
      "source": [
        "Este código serve como um filtro buscar algo que queira como por exemplo se a pessoa foi cadastrada\n",
        "Um exemplo de pesquisa\n",
        "(Encontrado, Desaparecido, Alojado)"
      ],
      "metadata": {
        "id": "u2GTnkJkSVZi"
      }
    },
    {
      "cell_type": "code",
      "source": [
        "import re\n",
        "import textwrap\n",
        "from IPython.display import display\n",
        "from IPython.display import Markdown\n",
        "\n",
        "def to_markdown(text):\n",
        "    text = text.replace('•', '  *')\n",
        "    return Markdown(textwrap.indent(text, '> ', predicate=lambda _: True))\n",
        "\n",
        "def search_filter(keyword):\n",
        "    \"\"\"\n",
        "    Aplica um filtro de pesquisa no histórico de mensagens.\n",
        "\n",
        "    Args:\n",
        "        keyword (str): A palavra-chave a ser pesquisada.\n",
        "\n",
        "    Returns:\n",
        "        list: Uma lista contendo as mensagens que correspondem à pesquisa.\n",
        "    \"\"\"\n",
        "    filtered_messages = []\n",
        "    for message in chat.history:\n",
        "        if re.search(keyword, message.parts[0].text, re.IGNORECASE):\n",
        "            filtered_messages.append(message)\n",
        "    return filtered_messages\n",
        "\n",
        "# Imprimindo o histórico com filtro\n",
        "keyword = input(\"Digite a palavra-chave para pesquisa: \")\n",
        "filtered_messages = search_filter(keyword)\n",
        "\n",
        "if filtered_messages:\n",
        "    for message in filtered_messages:\n",
        "        display(to_markdown(f'**{message.role}**: {message.parts[0].text}'))\n",
        "        print('-------------------------------------------')\n",
        "else:\n",
        "    print(f\"Nenhuma mensagem encontrada para a palavra-chave '{keyword}'.\")"
      ],
      "metadata": {
        "id": "YwYfds982wxo"
      },
      "execution_count": null,
      "outputs": []
    },
    {
      "cell_type": "markdown",
      "source": [
        "**Serve pra incluir uma imagem ao nome da Pessoa que ira mostrar em arquivos**"
      ],
      "metadata": {
        "id": "Aaci9a6Tq2tl"
      }
    },
    {
      "cell_type": "code",
      "source": [
        "from google.colab import files\n",
        "from PIL import Image\n",
        "from PIL import ImageOps  # Import for resize functionality\n",
        "import io\n",
        "\n",
        "uploaded = files.upload()\n",
        "\n",
        "# Define base resize factor (modify as needed)\n",
        "base_resize_factor = 0.5  # Reduce image size by 50% initially\n",
        "\n",
        "for filename, file_content in uploaded.items():\n",
        "    # Get size using len()\n",
        "    file_size = len(file_content)\n",
        "    print(f\"Nome do arquivo original: {filename}\")\n",
        "    print(f\"Tamanho do arquivo: {file_size} bytes\")\n",
        "\n",
        "    try:\n",
        "        # Attempt to open the image using a broader mode\n",
        "        image_data = io.BytesIO(file_content)\n",
        "        image = Image.open(image_data, 'r')  # Use 'r' for read mode\n",
        "\n",
        "        width, height = image.size\n",
        "\n",
        "        # Calculate a dynamic resize factor based on desired maximum dimensions\n",
        "        # (modify max_width and max_height as needed)\n",
        "        max_width = 300  # Set your desired maximum width for display\n",
        "        max_height = 200  # Set your desired maximum height for display\n",
        "        resize_factor = min(max_width / width, max_height / height)\n",
        "\n",
        "        # Ensure resize factor is at least base_resize_factor (optional)\n",
        "        resize_factor = max(resize_factor, base_resize_factor)\n",
        "\n",
        "        # Get user input for new filename (without extension)\n",
        "        new_filename = input(\"Digite o novo nome para o arquivo (sem extensão): \")\n",
        "\n",
        "        # Construct the new filename with extension (modify extension as needed)\n",
        "        new_filename_with_ext = f\"{new_filename}.jpg\"\n",
        "\n",
        "        # Resize the image\n",
        "        resized_image = image.resize((int(width * resize_factor), int(height * resize_factor)), Image.ANTIALIAS)\n",
        "\n",
        "        # Display the resized image\n",
        "        display(resized_image)\n",
        "\n",
        "        # Save the resized image with the new filename (optional)\n",
        "        with open(new_filename_with_ext, 'wb') as f:\n",
        "            resized_image.save(f, format='JPEG')  # Save as JPEG (modify format as needed)\n",
        "            print(f\"Imagem salva como: {new_filename_with_ext}\")\n",
        "\n",
        "    except (IOError, OSError) as e:\n",
        "        print(f\"Error opening file '{filename}': {e}\")"
      ],
      "metadata": {
        "id": "ZcBOqogAtS1p"
      },
      "execution_count": null,
      "outputs": []
    }
  ]
}