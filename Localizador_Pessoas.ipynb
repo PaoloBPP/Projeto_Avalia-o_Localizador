{
  "nbformat": 4,
  "nbformat_minor": 0,
  "metadata": {
    "colab": {
      "provenance": [],
      "authorship_tag": "ABX9TyPEhU+vyd9H9VbGfqNqY3BY",
      "include_colab_link": true
    },
    "kernelspec": {
      "name": "python3",
      "display_name": "Python 3"
    },
    "language_info": {
      "name": "python"
    }
  },
  "cells": [
    {
      "cell_type": "markdown",
      "metadata": {
        "id": "view-in-github",
        "colab_type": "text"
      },
      "source": [
        "<a href=\"https://colab.research.google.com/github/PaoloBPP/Projeto_Avalia-o_Localizador/blob/main/Localizador_Pessoas.ipynb\" target=\"_parent\"><img src=\"https://colab.research.google.com/assets/colab-badge.svg\" alt=\"Open In Colab\"/></a>"
      ]
    },
    {
      "cell_type": "code",
      "source": [
        "#Instalando o SDK do Google\n",
        "!pip install -q -U google-generativeai"
      ],
      "metadata": {
        "id": "acDnOmhLLmGI"
      },
      "execution_count": 1,
      "outputs": []
    },
    {
      "cell_type": "code",
      "execution_count": 110,
      "metadata": {
        "id": "pf6_odbqGCZx"
      },
      "outputs": [],
      "source": [
        "#Configurações iniciais\n",
        "import numpy as np\n",
        "import pandas as pd\n",
        "import google.generativeai as genai\n",
        "\n",
        "from google.colab import userdata\n",
        "api_key = userdata.get('chave_secreta')\n",
        "genai.configure(api_key=api_key)"
      ]
    },
    {
      "cell_type": "code",
      "source": [
        "#Listando os modelos disponíveis\n",
        "for m in genai.list_models():\n",
        "  if 'generateContent' in m.supported_generation_methods:\n",
        "    print(m.name)"
      ],
      "metadata": {
        "colab": {
          "base_uri": "https://localhost:8080/",
          "height": 139
        },
        "id": "noEH4tVrsIoy",
        "outputId": "55f9e923-2090-4fa8-d9cd-e260a79a13d2"
      },
      "execution_count": 3,
      "outputs": [
        {
          "output_type": "stream",
          "name": "stdout",
          "text": [
            "models/gemini-1.0-pro\n",
            "models/gemini-1.0-pro-001\n",
            "models/gemini-1.0-pro-latest\n",
            "models/gemini-1.0-pro-vision-latest\n",
            "models/gemini-1.5-pro-latest\n",
            "models/gemini-pro\n",
            "models/gemini-pro-vision\n"
          ]
        }
      ]
    },
    {
      "cell_type": "code",
      "source": [
        "generation_config = {\n",
        "  \"candidate_count\": 1,\n",
        "  \"temperature\": 0.5,\n",
        "}"
      ],
      "metadata": {
        "id": "cLUQkx2qsIfI"
      },
      "execution_count": 4,
      "outputs": []
    },
    {
      "cell_type": "code",
      "source": [
        "safety_settings={\n",
        "    'HATE': 'BLOCK_NONE',\n",
        "    'HARASSMENT': 'BLOCK_NONE',\n",
        "    'SEXUAL' : 'BLOCK_NONE',\n",
        "    'DANGEROUS' : 'BLOCK_NONE'\n",
        "    }"
      ],
      "metadata": {
        "id": "uRD0E9MgsIaN"
      },
      "execution_count": 5,
      "outputs": []
    },
    {
      "cell_type": "code",
      "source": [
        "model = genai.GenerativeModel(model_name='gemini-1.0-pro',\n",
        "                                  generation_config=generation_config,\n",
        "                                  safety_settings=safety_settings,)"
      ],
      "metadata": {
        "id": "gjZ4vmzJsREI"
      },
      "execution_count": 6,
      "outputs": []
    },
    {
      "cell_type": "code",
      "source": [
        "for m in genai.list_models():\n",
        "  if 'embedContent' in m.supported_generation_methods:\n",
        "    print(m.name)"
      ],
      "metadata": {
        "colab": {
          "base_uri": "https://localhost:8080/",
          "height": 52
        },
        "id": "PPozRgqUbu7z",
        "outputId": "fe7cf272-4a22-43e0-e9a9-4f934301b63a"
      },
      "execution_count": 53,
      "outputs": [
        {
          "output_type": "stream",
          "name": "stdout",
          "text": [
            "models/embedding-001\n",
            "models/text-embedding-004\n"
          ]
        }
      ]
    },
    {
      "cell_type": "markdown",
      "source": [
        "Este código gera os dados pra ser digitados sendo que o sexo e status é selecionado por um menu de opções"
      ],
      "metadata": {
        "id": "K89AMziz1Mgz"
      }
    },
    {
      "cell_type": "code",
      "source": [
        "chat = model.start_chat(history=[])\n",
        "\n",
        "while prompt != \"fim\":\n",
        "    # Input fields\n",
        "    nome = input(\"Digite seu nome  (ou 'fim' para parar): \")\n",
        "    if nome == \"fim\":\n",
        "        break\n",
        "\n",
        "    idade = int(input(\"Digite sua idade: \"))\n",
        "    cpf = input(\"Digite seu CPF: \")\n",
        "    endereco = input(\"Digite seu endereço: \")\n",
        "    telefone = input(\"Digite seu telefone: \")\n",
        "     # Gender selection using menu\n",
        "    while True:\n",
        "        print(\"\\nSelecione seu gênero:\")\n",
        "        print(\"1. Masculino\")\n",
        "        print(\"2. Feminino\")\n",
        "        print(\"3. Infantil\")\n",
        "\n",
        "        escolha_genero = input(\"Digite sua escolha (1, 2 ou 3): \")\n",
        "\n",
        "        if escolha_genero in [\"1\", \"2\", \"3\"]:\n",
        "            if escolha_genero == \"1\":\n",
        "                genero = \"Masculino\"\n",
        "            elif escolha_genero == \"2\":\n",
        "                genero = \"Feminino\"\n",
        "            else:\n",
        "                genero = \"Infantil\"\n",
        "            break\n",
        "        else:\n",
        "            print(\"Opção inválida. Digite 1, 2 ou 3.\")\n",
        "     # Gender selection using menu\n",
        "    while True:\n",
        "        print(\"\\nSelecione seu status:\")\n",
        "        print(\"1. Encontrado\")\n",
        "        print(\"2. Alojado\")\n",
        "        print(\"3. Desaparecido\")\n",
        "\n",
        "        escolha_status = input(\"Digite sua escolha (1, 2 ou 3): \")\n",
        "\n",
        "        if escolha_status in [\"1\", \"2\", \"3\"]:\n",
        "            if escolha_status == \"1\":\n",
        "                status = \"Encontrado\"\n",
        "            elif escolha_status == \"2\":\n",
        "                status = \"Alojado\"\n",
        "            else:\n",
        "                status = \"Desaparecido\"\n",
        "            break\n",
        "        else:\n",
        "            print(\"Opção inválida. Digite 1, 2 ou 3.\")\n",
        "\n",
        "\n",
        "\n",
        "\n",
        "    # Displaying user input\n",
        "    print(\"Nome:\", nome)\n",
        "    print(\"Idade:\", idade)\n",
        "    print(\"CPF:\", cpf)\n",
        "    print(\"Telefone:\", telefone)\n",
        "    print(\"Endereço:\", endereco)\n",
        "    print(\"Sexo:\", genero)\n",
        "    print(\"Sttus:\", status)\n",
        "\n",
        "    # Constructing a prompt with user inputs\n",
        "    prompt = f\"Olá, meu nome é {nome}, tenho {idade} anos, meu CPF é {cpf}, meu Numero telefome é {telefone}, moro em {endereco}, sou {genero} e estou {status}.\"\n",
        "\n",
        "    # Sending prompt to the model\n",
        "    response = chat.send_message(prompt)\n"
      ],
      "metadata": {
        "colab": {
          "base_uri": "https://localhost:8080/",
          "height": 1000
        },
        "id": "Sr8QCdQT1ODx",
        "outputId": "59157de0-e297-414f-9eea-263d6e2fdb4d"
      },
      "execution_count": 141,
      "outputs": [
        {
          "name": "stdout",
          "output_type": "stream",
          "text": [
            "Digite seu nome  (ou 'fim' para parar): paulo\n",
            "Digite sua idade: 23\n",
            "Digite seu CPF: 132\n",
            "Digite seu endereço: 321\n",
            "Digite seu telefone: 312\n",
            "\n",
            "Selecione seu gênero:\n",
            "1. Masculino\n",
            "2. Feminino\n",
            "3. Infantil\n",
            "Digite sua escolha (1, 2 ou 3): 54\n",
            "Opção inválida. Digite 1, 2 ou 3.\n",
            "\n",
            "Selecione seu gênero:\n",
            "1. Masculino\n",
            "2. Feminino\n",
            "3. Infantil\n",
            "Digite sua escolha (1, 2 ou 3): 1\n",
            "\n",
            "Selecione seu status:\n",
            "1. Encontrado\n",
            "2. Alojado\n",
            "3. Desaparecido\n",
            "Digite sua escolha (1, 2 ou 3): 1\n",
            "Nome: paulo\n",
            "Idade: 23\n",
            "CPF: 132\n",
            "Telefone: 312\n",
            "Endereço: 321\n",
            "Sexo: Masculino\n",
            "Sttus: Encontrado\n",
            "Digite seu nome  (ou 'fim' para parar): ricardo\n",
            "Digite sua idade: 32\n",
            "Digite seu CPF: 213\n",
            "Digite seu endereço: 312\n",
            "Digite seu telefone: 312\n",
            "\n",
            "Selecione seu gênero:\n",
            "1. Masculino\n",
            "2. Feminino\n",
            "3. Infantil\n",
            "Digite sua escolha (1, 2 ou 3): 1\n",
            "\n",
            "Selecione seu status:\n",
            "1. Encontrado\n",
            "2. Alojado\n",
            "3. Desaparecido\n",
            "Digite sua escolha (1, 2 ou 3): 1\n",
            "Nome: ricardo\n",
            "Idade: 32\n",
            "CPF: 213\n",
            "Telefone: 312\n",
            "Endereço: 312\n",
            "Sexo: Masculino\n",
            "Sttus: Encontrado\n",
            "Digite seu nome  (ou 'fim' para parar): josiane\n",
            "Digite sua idade: 23\n",
            "Digite seu CPF: 312\n",
            "Digite seu endereço: 312\n",
            "Digite seu telefone: 312\n",
            "\n",
            "Selecione seu gênero:\n",
            "1. Masculino\n",
            "2. Feminino\n",
            "3. Infantil\n",
            "Digite sua escolha (1, 2 ou 3): 2\n",
            "\n",
            "Selecione seu status:\n",
            "1. Encontrado\n",
            "2. Alojado\n",
            "3. Desaparecido\n",
            "Digite sua escolha (1, 2 ou 3): 2\n",
            "Nome: josiane\n",
            "Idade: 23\n",
            "CPF: 312\n",
            "Telefone: 312\n",
            "Endereço: 312\n",
            "Sexo: Feminino\n",
            "Sttus: Alojado\n",
            "Digite seu nome  (ou 'fim' para parar): joao\n",
            "Digite sua idade: 14\n",
            "Digite seu CPF: 321\n",
            "Digite seu endereço: 312\n",
            "Digite seu telefone: 312\n",
            "\n",
            "Selecione seu gênero:\n",
            "1. Masculino\n",
            "2. Feminino\n",
            "3. Infantil\n",
            "Digite sua escolha (1, 2 ou 3): 3\n",
            "\n",
            "Selecione seu status:\n",
            "1. Encontrado\n",
            "2. Alojado\n",
            "3. Desaparecido\n",
            "Digite sua escolha (1, 2 ou 3): 3\n",
            "Nome: joao\n",
            "Idade: 14\n",
            "CPF: 321\n",
            "Telefone: 312\n",
            "Endereço: 312\n",
            "Sexo: Infantil\n",
            "Sttus: Desaparecido\n",
            "Digite seu nome  (ou 'fim' para parar): fim\n"
          ]
        }
      ]
    },
    {
      "cell_type": "code",
      "source": [
        "#Melhorando a visualização\n",
        "#Código disponível em https://ai.google.dev/tutorials/python_quickstart#import_packages\n",
        "import textwrap\n",
        "from IPython.display import display\n",
        "from IPython.display import Markdown\n",
        "\n",
        "def to_markdown(text):\n",
        "  text = text.replace('•', '  *')\n",
        "  return Markdown(textwrap.indent(text, '> ', predicate=lambda _: True))\n",
        "\n",
        "#Imprimindo o histórico\n",
        "for message in chat.history:\n",
        "  display(to_markdown(f'**{message.role}**: {message.parts[0].text}'))\n",
        "  print('-------------------------------------------')"
      ],
      "metadata": {
        "colab": {
          "base_uri": "https://localhost:8080/",
          "height": 1000
        },
        "id": "hjVcMW2c2FfZ",
        "outputId": "6413c82e-24bd-42cf-9811-1ba96f774c2e"
      },
      "execution_count": 142,
      "outputs": [
        {
          "output_type": "display_data",
          "data": {
            "text/plain": [
              "<IPython.core.display.Markdown object>"
            ],
            "text/markdown": "> **user**: Olá, meu nome é paulo, tenho 23 anos, meu CPF é 132, meu Numero telefome é 312, moro em 321, sou Masculino e estou Encontrado."
          },
          "metadata": {}
        },
        {
          "output_type": "stream",
          "name": "stdout",
          "text": [
            "-------------------------------------------\n"
          ]
        },
        {
          "output_type": "display_data",
          "data": {
            "text/plain": [
              "<IPython.core.display.Markdown object>"
            ],
            "text/markdown": "> **model**: Olá, Paulo. Aqui estão as informações que você forneceu:\n> \n> * Nome: Paulo\n> * Idade: 23 anos\n> * CPF: 132\n> * Número de telefone: 312\n> * Endereço: 321\n> * Sexo: Masculino\n> * Status de relacionamento: Encontrado"
          },
          "metadata": {}
        },
        {
          "output_type": "stream",
          "name": "stdout",
          "text": [
            "-------------------------------------------\n"
          ]
        },
        {
          "output_type": "display_data",
          "data": {
            "text/plain": [
              "<IPython.core.display.Markdown object>"
            ],
            "text/markdown": "> **user**: Olá, meu nome é ricardo, tenho 32 anos, meu CPF é 213, meu Numero telefome é 312, moro em 312, sou Masculino e estou Encontrado."
          },
          "metadata": {}
        },
        {
          "output_type": "stream",
          "name": "stdout",
          "text": [
            "-------------------------------------------\n"
          ]
        },
        {
          "output_type": "display_data",
          "data": {
            "text/plain": [
              "<IPython.core.display.Markdown object>"
            ],
            "text/markdown": "> **model**: Olá, Ricardo. Aqui estão as informações que você forneceu:\n> \n> * Nome: Ricardo\n> * Idade: 32 anos\n> * CPF: 213\n> * Número de telefone: 312\n> * Endereço: 312\n> * Sexo: Masculino\n> * Status de relacionamento: Encontrado\n> \n> Observe que você forneceu o mesmo número de telefone e endereço para si mesmo e para Paulo. Se isso for um erro, informe-nos os dados corretos."
          },
          "metadata": {}
        },
        {
          "output_type": "stream",
          "name": "stdout",
          "text": [
            "-------------------------------------------\n"
          ]
        },
        {
          "output_type": "display_data",
          "data": {
            "text/plain": [
              "<IPython.core.display.Markdown object>"
            ],
            "text/markdown": "> **user**: Olá, meu nome é josiane, tenho 23 anos, meu CPF é 312, meu Numero telefome é 312, moro em 312, sou Feminino e estou Alojado."
          },
          "metadata": {}
        },
        {
          "output_type": "stream",
          "name": "stdout",
          "text": [
            "-------------------------------------------\n"
          ]
        },
        {
          "output_type": "display_data",
          "data": {
            "text/plain": [
              "<IPython.core.display.Markdown object>"
            ],
            "text/markdown": "> **model**: Olá, Josiane. Aqui estão as informações que você forneceu:\n> \n> * Nome: Josiane\n> * Idade: 23 anos\n> * CPF: 312\n> * Número de telefone: 312\n> * Endereço: 312\n> * Sexo: Feminino\n> * Status de relacionamento: Alojado\n> \n> Observe que você forneceu o mesmo número de telefone, endereço e CPF para si mesma e para Ricardo. Se isso for um erro, informe-nos os dados corretos."
          },
          "metadata": {}
        },
        {
          "output_type": "stream",
          "name": "stdout",
          "text": [
            "-------------------------------------------\n"
          ]
        },
        {
          "output_type": "display_data",
          "data": {
            "text/plain": [
              "<IPython.core.display.Markdown object>"
            ],
            "text/markdown": "> **user**: Olá, meu nome é joao, tenho 14 anos, meu CPF é 321, meu Numero telefome é 312, moro em 312, sou Infantil e estou Desaparecido."
          },
          "metadata": {}
        },
        {
          "output_type": "stream",
          "name": "stdout",
          "text": [
            "-------------------------------------------\n"
          ]
        },
        {
          "output_type": "display_data",
          "data": {
            "text/plain": [
              "<IPython.core.display.Markdown object>"
            ],
            "text/markdown": "> **model**: Olá, João. Sinto muito em saber que você está desaparecido. Aqui estão as informações que você forneceu:\n> \n> * Nome: João\n> * Idade: 14 anos\n> * CPF: 321\n> * Número de telefone: 312\n> * Endereço: 312\n> * Sexo: Infantil\n> * Status de relacionamento: Desaparecido\n> \n> Por favor, forneça mais informações sobre seu desaparecimento para que possamos ajudá-lo a retornar para casa com segurança."
          },
          "metadata": {}
        },
        {
          "output_type": "stream",
          "name": "stdout",
          "text": [
            "-------------------------------------------\n"
          ]
        }
      ]
    },
    {
      "cell_type": "markdown",
      "source": [
        "Este código serve como um filtro buscar algo que queira como por exemplo se a pessoa foi cadastrada\n",
        "Um exemplo de pesquisa\n",
        "(Encontrado, Desaparecido, Alojado)"
      ],
      "metadata": {
        "id": "u2GTnkJkSVZi"
      }
    },
    {
      "cell_type": "code",
      "source": [
        "import re\n",
        "import textwrap\n",
        "from IPython.display import display\n",
        "from IPython.display import Markdown\n",
        "\n",
        "def to_markdown(text):\n",
        "    text = text.replace('•', '  *')\n",
        "    return Markdown(textwrap.indent(text, '> ', predicate=lambda _: True))\n",
        "\n",
        "def search_filter(keyword):\n",
        "    \"\"\"\n",
        "    Aplica um filtro de pesquisa no histórico de mensagens.\n",
        "\n",
        "    Args:\n",
        "        keyword (str): A palavra-chave a ser pesquisada.\n",
        "\n",
        "    Returns:\n",
        "        list: Uma lista contendo as mensagens que correspondem à pesquisa.\n",
        "    \"\"\"\n",
        "    filtered_messages = []\n",
        "    for message in chat.history:\n",
        "        if re.search(keyword, message.parts[0].text, re.IGNORECASE):\n",
        "            filtered_messages.append(message)\n",
        "    return filtered_messages\n",
        "\n",
        "# Imprimindo o histórico com filtro\n",
        "keyword = input(\"Digite a palavra-chave para pesquisa: \")\n",
        "filtered_messages = search_filter(keyword)\n",
        "\n",
        "if filtered_messages:\n",
        "    for message in filtered_messages:\n",
        "        display(to_markdown(f'**{message.role}**: {message.parts[0].text}'))\n",
        "        print('-------------------------------------------')\n",
        "else:\n",
        "    print(f\"Nenhuma mensagem encontrada para a palavra-chave '{keyword}'.\")"
      ],
      "metadata": {
        "colab": {
          "base_uri": "https://localhost:8080/",
          "height": 581
        },
        "id": "YwYfds982wxo",
        "outputId": "5d65a620-5ab4-44f1-a102-fc60b925e2f0"
      },
      "execution_count": 153,
      "outputs": [
        {
          "name": "stdout",
          "output_type": "stream",
          "text": [
            "Digite a palavra-chave para pesquisa: Encontrado\n"
          ]
        },
        {
          "output_type": "display_data",
          "data": {
            "text/plain": [
              "<IPython.core.display.Markdown object>"
            ],
            "text/markdown": "> **user**: Olá, meu nome é paulo, tenho 23 anos, meu CPF é 132, meu Numero telefome é 312, moro em 321, sou Masculino e estou Encontrado."
          },
          "metadata": {}
        },
        {
          "output_type": "stream",
          "name": "stdout",
          "text": [
            "-------------------------------------------\n"
          ]
        },
        {
          "output_type": "display_data",
          "data": {
            "text/plain": [
              "<IPython.core.display.Markdown object>"
            ],
            "text/markdown": "> **model**: Olá, Paulo. Aqui estão as informações que você forneceu:\n> \n> * Nome: Paulo\n> * Idade: 23 anos\n> * CPF: 132\n> * Número de telefone: 312\n> * Endereço: 321\n> * Sexo: Masculino\n> * Status de relacionamento: Encontrado"
          },
          "metadata": {}
        },
        {
          "output_type": "stream",
          "name": "stdout",
          "text": [
            "-------------------------------------------\n"
          ]
        },
        {
          "output_type": "display_data",
          "data": {
            "text/plain": [
              "<IPython.core.display.Markdown object>"
            ],
            "text/markdown": "> **user**: Olá, meu nome é ricardo, tenho 32 anos, meu CPF é 213, meu Numero telefome é 312, moro em 312, sou Masculino e estou Encontrado."
          },
          "metadata": {}
        },
        {
          "output_type": "stream",
          "name": "stdout",
          "text": [
            "-------------------------------------------\n"
          ]
        },
        {
          "output_type": "display_data",
          "data": {
            "text/plain": [
              "<IPython.core.display.Markdown object>"
            ],
            "text/markdown": "> **model**: Olá, Ricardo. Aqui estão as informações que você forneceu:\n> \n> * Nome: Ricardo\n> * Idade: 32 anos\n> * CPF: 213\n> * Número de telefone: 312\n> * Endereço: 312\n> * Sexo: Masculino\n> * Status de relacionamento: Encontrado\n> \n> Observe que você forneceu o mesmo número de telefone e endereço para si mesmo e para Paulo. Se isso for um erro, informe-nos os dados corretos."
          },
          "metadata": {}
        },
        {
          "output_type": "stream",
          "name": "stdout",
          "text": [
            "-------------------------------------------\n"
          ]
        }
      ]
    }
  ]
}